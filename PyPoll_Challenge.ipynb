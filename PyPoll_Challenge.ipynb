{
 "cells": [
  {
   "cell_type": "code",
   "execution_count": 16,
   "metadata": {},
   "outputs": [],
   "source": [
    "# Add our dependencies.\n",
    "import csv\n",
    "import os"
   ]
  },
  {
   "cell_type": "code",
   "execution_count": 17,
   "metadata": {},
   "outputs": [],
   "source": [
    "# Add a variable to load a file from a path.\n",
    "file_to_load = os.path.join(\"..\", \"Analysis Projects\", \"election_results.csv\")\n",
    "# Add a variable to save the file to a path.\n",
    "file_to_save = os.path.join(\"..\", \"Analysis Projects\", \"election_analysis.txt\")"
   ]
  },
  {
   "cell_type": "code",
   "execution_count": 18,
   "metadata": {},
   "outputs": [],
   "source": [
    "# Initialize a total vote counter.\n",
    "total_votes = 0"
   ]
  },
  {
   "cell_type": "code",
   "execution_count": 19,
   "metadata": {},
   "outputs": [],
   "source": [
    "# Candidate Options and candidate votes.\n",
    "candidate_options = []\n",
    "candidate_votes = {}"
   ]
  },
  {
   "cell_type": "code",
   "execution_count": 20,
   "metadata": {},
   "outputs": [],
   "source": [
    "# 1: Create a county list and county votes dictionary.\n",
    "county=[]\n",
    "county_votes={}"
   ]
  },
  {
   "cell_type": "code",
   "execution_count": 21,
   "metadata": {},
   "outputs": [],
   "source": [
    "# Track the winning candidate, vote count and percentage\n",
    "winning_candidate = \"\"\n",
    "winning_count = 0\n",
    "winning_percentage = 0"
   ]
  },
  {
   "cell_type": "code",
   "execution_count": 22,
   "metadata": {},
   "outputs": [],
   "source": [
    "# 2: Track the largest county and county voter turnout.\n",
    "winning_county= \"\"\n",
    "winning_county_count=0"
   ]
  },
  {
   "cell_type": "code",
   "execution_count": 23,
   "metadata": {},
   "outputs": [],
   "source": [
    "# Read the csv and convert it into a list of dictionaries\n",
    "with open(file_to_load) as election_data:\n",
    "    reader = csv.reader(election_data)\n",
    "    # Read the header\n",
    "    header = next(reader)\n",
    "\n",
    "    # For each row in the CSV file.\n",
    "    for row in reader:\n",
    "\n",
    "        # Add to the total vote count\n",
    "        total_votes = total_votes + 1\n",
    "\n",
    "        # Get the candidate name from each row.\n",
    "        candidate_name = row[2]\n",
    "\n",
    "        # 3: Extract the county name from each row.\n",
    "\n",
    "        county_name=row[1]\n",
    "        \n",
    "        # If the candidate does not match any existing candidate add it to\n",
    "        # the candidate list\n",
    "        if candidate_name not in candidate_options:\n",
    "\n",
    "            # Add the candidate name to the candidate list.\n",
    "            candidate_options.append(candidate_name)\n",
    "\n",
    "            # And begin tracking that candidate's voter count.\n",
    "            candidate_votes[candidate_name] = 0\n",
    "\n",
    "        # Add a vote to that candidate's count\n",
    "        candidate_votes[candidate_name] += 1\n",
    "        \n",
    "        \n",
    "        # 4a: Write an if statement that checks that the\n",
    "        # county does not match any existing county in the county list.\n",
    "        if county_name not in county:\n",
    "\n",
    "            # 4b: Add the existing county to the list of counties.\n",
    "            county.append(county_name)\n",
    "            \n",
    "            # 4c: Begin tracking the county's vote count.\n",
    "            county_votes[county_name]= 0\n",
    "\n",
    "        # 5: Add a vote to that county's vote count.\n",
    "        county_votes[county_name] +=1"
   ]
  },
  {
   "cell_type": "code",
   "execution_count": 24,
   "metadata": {},
   "outputs": [
    {
     "name": "stdout",
     "output_type": "stream",
     "text": [
      "\n",
      "Election Results\n",
      "-------------------------\n",
      "Total Votes: 369,711\n",
      "-------------------------\n",
      "\n",
      "County Votes:\n",
      "Jefferson: 10.5% (38,855)\n",
      "\n",
      "Denver: 82.8% (306,055)\n",
      "\n",
      "Arapahoe: 6.7% (24,801)\n",
      "\n",
      "------------------------\n",
      "Largest County Turnout: Denver\n",
      "-------------------------\n",
      "\n",
      "Charles Casper Stockham: 23.0% (85,213)\n",
      "\n",
      "Diana DeGette: 73.8% (272,892)\n",
      "\n",
      "Raymon Anthony Doane: 3.1% (11,606)\n",
      "\n",
      "-------------------------\n",
      "Winner: Diana DeGette\n",
      "Winning Vote Count: 272,892\n",
      "Winning Percentage: 73.8%\n",
      "-------------------------\n",
      "\n"
     ]
    }
   ],
   "source": [
    "# Save the results to our text file.\n",
    "with open(file_to_save, \"w\") as txt_file:\n",
    "\n",
    "    # Print the final vote count (to terminal)\n",
    "    election_results = (\n",
    "        f\"\\nElection Results\\n\"\n",
    "        f\"-------------------------\\n\"\n",
    "        f\"Total Votes: {total_votes:,}\\n\"\n",
    "        f\"-------------------------\\n\\n\"\n",
    "        f\"County Votes:\\n\")\n",
    "    print(election_results, end=\"\")\n",
    "\n",
    "    txt_file.write(election_results)\n",
    "    \n",
    "    for county_name in county_votes:\n",
    "    # 6b: Retrieve the county vote count.\n",
    "        v = county_votes.get(county_name)\n",
    "    # 6c: Calculate the percentage of votes for the county.\n",
    "        v_percentage = float(v) / float(total_votes) * 100\n",
    "        county_results = (\n",
    "             f\"{county_name}: {v_percentage:.1f}% ({v:,})\\n\")\n",
    "    # 6d: Print the county results to the terminal.\n",
    "        print(county_results)\n",
    "    # 6e: Save the county votes to a text file.\n",
    "        txt_file.write(county_results)\n",
    "     \n",
    "    # 6f: Write an if statement to determine the winning county and get its vote count.\n",
    "        if (v > winning_county_count) and (v_percentage > winning_percentage):\n",
    "            winning_county_count = v\n",
    "            winning_county = county_name\n",
    "            winning_percentage = v_percentage\n",
    "            \n",
    "           \n",
    "\n",
    "    # 7: Print the county with the largest turnout to the terminal.\n",
    "    largest_voter_turnout= (\n",
    "         f\"------------------------\\n\"\n",
    "         f\"Largest County Turnout: {winning_county}\\n\"\n",
    "         f\"-------------------------\\n\")\n",
    "    print(largest_voter_turnout)\n",
    "\n",
    "    txt_file.write(largest_voter_turnout)\n",
    "    winning_percentage=0\n",
    "    \n",
    "    # Save the final candidate vote count to the text file.\n",
    "    for candidate_name in candidate_votes:\n",
    "\n",
    "        # Retrieve vote count and percentage\n",
    "        votes = candidate_votes.get(candidate_name)\n",
    "        vote_percentage = float(votes) / float(total_votes) * 100\n",
    "        candidate_results = (\n",
    "                  f\"{candidate_name}: {vote_percentage:.1f}% ({votes:,})\\n\")\n",
    "\n",
    "        # Print each candidate's voter count and percentage to the\n",
    "        # terminal.\n",
    "        print(candidate_results)\n",
    "        #  Save the candidate results to our text file.\n",
    "        txt_file.write(candidate_results)\n",
    "        # Determine winning vote count, winning percentage, and candidate.\n",
    "        if (votes > winning_count) and (vote_percentage > winning_percentage):\n",
    "            winning_count = votes\n",
    "            winning_candidate = candidate_name\n",
    "            winning_percentage = vote_percentage\n",
    "\n",
    "    # Print the winning candidate (to terminal)\n",
    "    winning_candidate_summary = (\n",
    "        f\"-------------------------\\n\"\n",
    "        f\"Winner: {winning_candidate}\\n\"\n",
    "        f\"Winning Vote Count: {winning_count:,}\\n\"\n",
    "        f\"Winning Percentage: {winning_percentage:.1f}%\\n\"\n",
    "        f\"-------------------------\\n\")\n",
    "    print(winning_candidate_summary)\n",
    "\n",
    "    # Save the winning candidate's name to the text file\n",
    "    txt_file.write(winning_candidate_summary)\n",
    "    "
   ]
  },
  {
   "cell_type": "code",
   "execution_count": null,
   "metadata": {},
   "outputs": [],
   "source": []
  },
  {
   "cell_type": "code",
   "execution_count": null,
   "metadata": {},
   "outputs": [],
   "source": []
  }
 ],
 "metadata": {
  "kernelspec": {
   "display_name": "PythonData",
   "language": "python",
   "name": "pythondata"
  },
  "language_info": {
   "codemirror_mode": {
    "name": "ipython",
    "version": 3
   },
   "file_extension": ".py",
   "mimetype": "text/x-python",
   "name": "python",
   "nbconvert_exporter": "python",
   "pygments_lexer": "ipython3",
   "version": "3.8.3"
  }
 },
 "nbformat": 4,
 "nbformat_minor": 4
}
